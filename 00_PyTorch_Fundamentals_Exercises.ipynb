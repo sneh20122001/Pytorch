{
  "nbformat": 4,
  "nbformat_minor": 0,
  "metadata": {
    "colab": {
      "provenance": [],
      "gpuType": "T4",
      "authorship_tag": "ABX9TyMZRMqWEjaoqMVtvChIGKQd",
      "include_colab_link": true
    },
    "kernelspec": {
      "name": "python3",
      "display_name": "Python 3"
    },
    "language_info": {
      "name": "python"
    },
    "accelerator": "GPU"
  },
  "cells": [
    {
      "cell_type": "markdown",
      "metadata": {
        "id": "view-in-github",
        "colab_type": "text"
      },
      "source": [
        "<a href=\"https://colab.research.google.com/github/sneh20122001/Pytorch/blob/main/00_PyTorch_Fundamentals_Exercises.ipynb\" target=\"_parent\"><img src=\"https://colab.research.google.com/assets/colab-badge.svg\" alt=\"Open In Colab\"/></a>"
      ]
    },
    {
      "cell_type": "markdown",
      "source": [
        "### 1. Documentation reading\n"
      ],
      "metadata": {
        "id": "3WBurgEyaA9C"
      }
    },
    {
      "cell_type": "markdown",
      "source": [
        "### 2. Create a random tensor with shape (7, 7)."
      ],
      "metadata": {
        "id": "3hq3U0TFamoC"
      }
    },
    {
      "cell_type": "code",
      "source": [
        "import torch\n",
        "\n",
        "random_tensor = torch.rand(7,7)\n",
        "random_tensor"
      ],
      "metadata": {
        "colab": {
          "base_uri": "https://localhost:8080/"
        },
        "id": "i9jl2RQ4akq9",
        "outputId": "bd005130-645f-4037-f894-883867f7ca26"
      },
      "execution_count": 2,
      "outputs": [
        {
          "output_type": "execute_result",
          "data": {
            "text/plain": [
              "tensor([[0.6616, 0.6913, 0.7975, 0.4473, 0.9056, 0.4596, 0.0989],\n",
              "        [0.5676, 0.2281, 0.7289, 0.0351, 0.3880, 0.5275, 0.5022],\n",
              "        [0.1974, 0.5998, 0.6812, 0.4524, 0.5837, 0.9762, 0.1611],\n",
              "        [0.2435, 0.6184, 0.2623, 0.3030, 0.5076, 0.7981, 0.3665],\n",
              "        [0.7856, 0.3119, 0.4611, 0.5233, 0.0548, 0.7287, 0.3292],\n",
              "        [0.8237, 0.4716, 0.1000, 0.4733, 0.1310, 0.6519, 0.6054],\n",
              "        [0.2731, 0.8793, 0.7988, 0.4125, 0.1561, 0.2953, 0.7137]])"
            ]
          },
          "metadata": {},
          "execution_count": 2
        }
      ]
    },
    {
      "cell_type": "markdown",
      "source": [
        "### 3. Perform a matrix multiplication on the tensor from 2 with another random tensor with shape (1, 7) (hint: you may have to transpose the second tensor)."
      ],
      "metadata": {
        "id": "OtFPqd8WboNq"
      }
    },
    {
      "cell_type": "code",
      "source": [
        "random_tensor2 = torch.rand(1,7)\n",
        "random_tensor2.T\n",
        "\n",
        "torch.matmul(random_tensor,random_tensor2.T)\n"
      ],
      "metadata": {
        "colab": {
          "base_uri": "https://localhost:8080/"
        },
        "id": "pJAAjFWibpn0",
        "outputId": "dd613bd8-a380-4160-8ced-d208be66472e"
      },
      "execution_count": 5,
      "outputs": [
        {
          "output_type": "execute_result",
          "data": {
            "text/plain": [
              "tensor([[1.4375],\n",
              "        [1.8735],\n",
              "        [1.4807],\n",
              "        [1.5930],\n",
              "        [1.7396],\n",
              "        [1.2391],\n",
              "        [1.7917]])"
            ]
          },
          "metadata": {},
          "execution_count": 5
        }
      ]
    },
    {
      "cell_type": "markdown",
      "source": [
        "### 4. Set the random seed to 0 and do 2 & 3 over again."
      ],
      "metadata": {
        "id": "3YUFKqbScdHb"
      }
    },
    {
      "cell_type": "code",
      "source": [
        "torch.manual_seed(0)\n",
        "\n",
        "random_tensor_A = torch.rand(7,7)\n",
        "random_tensor_B = torch.rand(1,7)\n",
        "\n",
        "torch.matmul(random_tensor_A,random_tensor_B.T)"
      ],
      "metadata": {
        "colab": {
          "base_uri": "https://localhost:8080/"
        },
        "id": "GJvgmlU5bpyt",
        "outputId": "6722600e-5cab-4e78-c918-6f24cf89c914"
      },
      "execution_count": 41,
      "outputs": [
        {
          "output_type": "execute_result",
          "data": {
            "text/plain": [
              "tensor([[1.8542],\n",
              "        [1.9611],\n",
              "        [2.2884],\n",
              "        [3.0481],\n",
              "        [1.7067],\n",
              "        [2.5290],\n",
              "        [1.7989]])"
            ]
          },
          "metadata": {},
          "execution_count": 41
        }
      ]
    },
    {
      "cell_type": "markdown",
      "source": [
        "### 5. Speaking of random seeds, we saw how to set it with torch.manual_seed() but is there a GPU equivalent? (hint: you'll need to look into the documentation for torch.cuda for this one)"
      ],
      "metadata": {
        "id": "tqVW9VrudiKS"
      }
    },
    {
      "cell_type": "code",
      "source": [
        "torch.cuda.manual_seed(1234)\n"
      ],
      "metadata": {
        "id": "zu2Cex9ndj_p"
      },
      "execution_count": 42,
      "outputs": []
    },
    {
      "cell_type": "markdown",
      "source": [
        "6. Create two random tensors of shape (2, 3) and send them both to the GPU (you'll need access to a GPU for this). Set torch.manual_seed(1234) when creating the tensors (this doesn't have to be the GPU random seed). The output should be something like:"
      ],
      "metadata": {
        "id": "tvMcYO-Ofsir"
      }
    },
    {
      "cell_type": "code",
      "source": [
        "torch.manual_seed(1234)\n",
        "\n",
        "A = torch.rand(2,3)\n",
        "B = torch.rand(3,2)\n",
        "\n",
        "device = 'cuda' if torch.cuda.is_available() else \"cpu\"\n",
        "print(device)\n",
        "\n",
        "A1 = A.to(device)\n",
        "B2 = B.to(device)\n",
        "\n",
        "print(A1)\n",
        "print(B2)"
      ],
      "metadata": {
        "colab": {
          "base_uri": "https://localhost:8080/"
        },
        "id": "fk8S3WBRftTF",
        "outputId": "a1b3cf39-32bb-41c5-fbfa-064c53558cde"
      },
      "execution_count": 5,
      "outputs": [
        {
          "output_type": "stream",
          "name": "stdout",
          "text": [
            "cuda\n",
            "tensor([[0.0290, 0.4019, 0.2598],\n",
            "        [0.3666, 0.0583, 0.7006]], device='cuda:0')\n",
            "tensor([[0.0518, 0.4681],\n",
            "        [0.6738, 0.3315],\n",
            "        [0.7837, 0.5631]], device='cuda:0')\n"
          ]
        }
      ]
    },
    {
      "cell_type": "markdown",
      "source": [
        "### 7. Perform a matrix multiplication on the tensors you created in 6 (again, you may have to adjust the shapes of one of the tensors)."
      ],
      "metadata": {
        "id": "a0_SDV93iMVj"
      }
    },
    {
      "cell_type": "code",
      "source": [
        "X = torch.matmul(A1,B2)\n",
        "X,X.shape"
      ],
      "metadata": {
        "colab": {
          "base_uri": "https://localhost:8080/"
        },
        "id": "cnCEaFoziQDU",
        "outputId": "39eb7a9c-af59-4363-d724-f4b25071e6ad"
      },
      "execution_count": 19,
      "outputs": [
        {
          "output_type": "execute_result",
          "data": {
            "text/plain": [
              "(tensor([[0.4759, 0.2931],\n",
              "         [0.6074, 0.5855]], device='cuda:0'),\n",
              " torch.Size([2, 2]))"
            ]
          },
          "metadata": {},
          "execution_count": 19
        }
      ]
    },
    {
      "cell_type": "markdown",
      "source": [
        "### 8. Find the maximum and minimum values of the output of 7."
      ],
      "metadata": {
        "id": "9Faq1qvTkVUy"
      }
    },
    {
      "cell_type": "code",
      "source": [
        "X.min()"
      ],
      "metadata": {
        "colab": {
          "base_uri": "https://localhost:8080/"
        },
        "id": "nAwpnOTukWlc",
        "outputId": "3df27766-ea10-4180-e14e-038905a85319"
      },
      "execution_count": 20,
      "outputs": [
        {
          "output_type": "execute_result",
          "data": {
            "text/plain": [
              "tensor(0.2931, device='cuda:0')"
            ]
          },
          "metadata": {},
          "execution_count": 20
        }
      ]
    },
    {
      "cell_type": "code",
      "source": [
        "X.max()"
      ],
      "metadata": {
        "colab": {
          "base_uri": "https://localhost:8080/"
        },
        "id": "YX_yj4I1kai8",
        "outputId": "0ff6bd7b-abeb-4822-bba4-2836a21df4b1"
      },
      "execution_count": 21,
      "outputs": [
        {
          "output_type": "execute_result",
          "data": {
            "text/plain": [
              "tensor(0.6074, device='cuda:0')"
            ]
          },
          "metadata": {},
          "execution_count": 21
        }
      ]
    },
    {
      "cell_type": "markdown",
      "source": [
        "### 9. Find the maximum and minimum index values of the output of 7."
      ],
      "metadata": {
        "id": "c_LmQHRCkekR"
      }
    },
    {
      "cell_type": "code",
      "source": [
        "X.argmax()"
      ],
      "metadata": {
        "colab": {
          "base_uri": "https://localhost:8080/"
        },
        "id": "k5whclQ-khqc",
        "outputId": "49d91f6e-cb37-4d15-b1cd-60a02acb05d5"
      },
      "execution_count": 22,
      "outputs": [
        {
          "output_type": "execute_result",
          "data": {
            "text/plain": [
              "tensor(2, device='cuda:0')"
            ]
          },
          "metadata": {},
          "execution_count": 22
        }
      ]
    },
    {
      "cell_type": "code",
      "source": [
        "X.argmin()"
      ],
      "metadata": {
        "colab": {
          "base_uri": "https://localhost:8080/"
        },
        "id": "lvcaBdhGkvKq",
        "outputId": "7ce03346-f3bc-4a87-9d4e-8f8cae42c1fd"
      },
      "execution_count": 23,
      "outputs": [
        {
          "output_type": "execute_result",
          "data": {
            "text/plain": [
              "tensor(1, device='cuda:0')"
            ]
          },
          "metadata": {},
          "execution_count": 23
        }
      ]
    },
    {
      "cell_type": "markdown",
      "source": [
        "### 10. Make a random tensor with shape (1, 1, 1, 10) and then create a new tensor with all the 1 dimensions removed to be left with a tensor of shape (10). Set the seed to 7 when you create it and print out the first tensor and it's shape as well as the second tensor and it's shape."
      ],
      "metadata": {
        "id": "WCklisC-lm75"
      }
    },
    {
      "cell_type": "code",
      "source": [
        "torch.manual_seed(7)\n",
        "\n",
        "X = torch.rand(size=(1,1,1,10))\n",
        "print(X, X.size())\n",
        "\n",
        "Y = X.squeeze()\n",
        "\n",
        "print(Y, Y.size())"
      ],
      "metadata": {
        "colab": {
          "base_uri": "https://localhost:8080/"
        },
        "id": "q4sFjx4_lqEU",
        "outputId": "e0a9d0e3-6b29-4454-da48-53764f1a5d11"
      },
      "execution_count": 46,
      "outputs": [
        {
          "output_type": "stream",
          "name": "stdout",
          "text": [
            "tensor([[[[0.5349, 0.1988, 0.6592, 0.6569, 0.2328, 0.4251, 0.2071, 0.6297,\n",
            "           0.3653, 0.8513]]]]) torch.Size([1, 1, 1, 10])\n",
            "tensor([0.5349, 0.1988, 0.6592, 0.6569, 0.2328, 0.4251, 0.2071, 0.6297, 0.3653,\n",
            "        0.8513]) torch.Size([10])\n"
          ]
        }
      ]
    }
  ]
}